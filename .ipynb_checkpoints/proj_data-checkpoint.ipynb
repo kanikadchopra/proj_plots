{
 "cells": [
  {
   "cell_type": "code",
   "execution_count": 1,
   "metadata": {},
   "outputs": [],
   "source": [
    "import pandas as pd\n",
    "import numpy as np\n",
    "import seaborn as sns\n",
    "\n",
    "from proj_xvals import proj_xvals"
   ]
  },
  {
   "cell_type": "markdown",
   "metadata": {},
   "source": [
    "## proj_data()\n",
    "\n",
    "This notebook is used to generate the proj_data() function and test it based on a few different objective function and `x_vals()` combinations. This will then be transferred to a Python function to be plotted in the `proj_plot()` function. This notebook is for exploratory purposes. "
   ]
  },
  {
   "cell_type": "code",
   "execution_count": 2,
   "metadata": {},
   "outputs": [],
   "source": [
    "theta = np.array([1, 15])\n",
    "theta_names = [\"mu\", \"sigma\"]\n",
    "theta_lims = np.array([[0,2], [10, 20]])\n",
    "n_pts = 3 "
   ]
  },
  {
   "cell_type": "code",
   "execution_count": 3,
   "metadata": {},
   "outputs": [],
   "source": [
    "x_vals = proj_xvals(theta, theta_lims, n_pts)"
   ]
  },
  {
   "cell_type": "code",
   "execution_count": 4,
   "metadata": {
    "scrolled": true
   },
   "outputs": [
    {
     "data": {
      "text/plain": [
       "array([[ 0., 15.],\n",
       "       [ 1., 15.],\n",
       "       [ 2., 15.],\n",
       "       [ 1., 10.],\n",
       "       [ 1., 15.],\n",
       "       [ 1., 20.]])"
      ]
     },
     "execution_count": 4,
     "metadata": {},
     "output_type": "execute_result"
    }
   ],
   "source": [
    "x_vals"
   ]
  },
  {
   "cell_type": "markdown",
   "metadata": {},
   "source": [
    "Let's start with a very basic objective function that is vectorized and use these x_vals. \n",
    "\n",
    "**Note:** These x_vals are not the objective values, these are simply for testing the proj_data values to ensure it is outputting the correct values."
   ]
  },
  {
   "cell_type": "code",
   "execution_count": 5,
   "metadata": {},
   "outputs": [],
   "source": [
    "def obj_fun(X, axis):\n",
    "    return np.sum(X*2, axis=axis)"
   ]
  },
  {
   "cell_type": "markdown",
   "metadata": {},
   "source": [
    "Next, we need our projection function to generate the y-values based on whether the objective function is optimized or not. In this case, it is and we will be applying this function over `axis=1`. "
   ]
  },
  {
   "cell_type": "code",
   "execution_count": 6,
   "metadata": {},
   "outputs": [],
   "source": [
    "def proj_plot(plot_data): \n",
    "    \"\"\"\n",
    "    Args:\n",
    "        plot_data (DataFrame): A DataFrame that contains columns for the calculated y-value, varying x value and the respective theta name associated with the varying x\n",
    "        x_vals (NumPy array): A matrix of the x_vals, this should be outputted from proj_xvals()\n",
    "        is_vectorized (Bool): TRUE if the objective function is vectorized, else FALSE\n",
    "\n",
    "    Returns:\n",
    "        plot_df (DataFrame): The y-value in each projection plot appended to the x-values in a DataFrame format that's amenable to plotting.\n",
    "    \"\"\"\n",
    "    sns.relplot(\n",
    "    data=plot_data, kind=\"line\",\n",
    "    x=\"x\", y=\"y\", col=\"theta\",\n",
    "    facet_kws=dict(sharex=False, sharey=False))"
   ]
  },
  {
   "cell_type": "code",
   "execution_count": 7,
   "metadata": {},
   "outputs": [],
   "source": [
    "def proj_data(fun, x_vals, theta_names, is_vectorized = False):\n",
    "    \"\"\"\n",
    "    Args:\n",
    "        fun (Python function): The objective function that is being optimized\n",
    "        x_vals (NumPy array): A matrix of the x_vals, this should be outputted from proj_xvals()\n",
    "        is_vectorized (Bool): TRUE if the objective function is vectorized, else FALSE\n",
    "\n",
    "    Returns:\n",
    "        plot_df (DataFrame): The y-value in each projection plot appended to the x-values in a DataFrame format that's amenable to plotting.\n",
    "    \"\"\"\n",
    "    \n",
    "    n_x = x_vals.shape[0]\n",
    "    \n",
    "    # Temporary solution: Create a DataFrame first\n",
    "    plot_df = pd.DataFrame(x_vals)\n",
    "\n",
    "    \n",
    "    # Initialize empty y vector\n",
    "    y_vals = np.zeros(n_x)\n",
    "\n",
    "    # Function is not vectorized \n",
    "    if is_vectorized == False:\n",
    "        for i in range(n_x):\n",
    "            y_vals[i] = fun(x_vals[i])\n",
    "    \n",
    "    # Function is vectorized\n",
    "    else: \n",
    "        y_vals = fun(x_vals, axis=1)\n",
    "\n",
    "    # Append the y_values to the dataframe\n",
    "    plot_df = pd.DataFrame(np.unique(pd.DataFrame(x_vals)), y_vals)\n",
    "    plot_df.reset_index(inplace=True)\n",
    "    plot_df.columns = ['y', 'x']\n",
    "    plot_df['theta'] = np.repeat(theta_names, x_vals.shape[0]/x_vals.shape[1])\n",
    "    \n",
    "    proj_plot(plot_df)\n",
    "    \n",
    "    return plot_df \n"
   ]
  },
  {
   "cell_type": "code",
   "execution_count": 8,
   "metadata": {
    "scrolled": true
   },
   "outputs": [
    {
     "data": {
      "image/png": "[encoded data removed]",
      "text/plain": [
       "<Figure size 720x360 with 2 Axes>"
      ]
     },
     "metadata": {
      "needs_background": "light"
     },
     "output_type": "display_data"
    }
   ],
   "source": [
    "plot_data = proj_data(obj_fun, x_vals, theta_names, True)"
   ]
  },
  {
   "cell_type": "code",
   "execution_count": 9,
   "metadata": {},
   "outputs": [
    {
     "data": {
      "text/html": [
       "<div>\n",
       "<style scoped>\n",
       "    .dataframe tbody tr th:only-of-type {\n",
       "        vertical-align: middle;\n",
       "    }\n",
       "\n",
       "    .dataframe tbody tr th {\n",
       "        vertical-align: top;\n",
       "    }\n",
       "\n",
       "    .dataframe thead th {\n",
       "        text-align: right;\n",
       "    }\n",
       "</style>\n",
       "<table border=\"1\" class=\"dataframe\">\n",
       "  <thead>\n",
       "    <tr style=\"text-align: right;\">\n",
       "      <th></th>\n",
       "      <th>y</th>\n",
       "      <th>x</th>\n",
       "      <th>theta</th>\n",
       "    </tr>\n",
       "  </thead>\n",
       "  <tbody>\n",
       "    <tr>\n",
       "      <th>0</th>\n",
       "      <td>30.0</td>\n",
       "      <td>0.0</td>\n",
       "      <td>mu</td>\n",
       "    </tr>\n",
       "    <tr>\n",
       "      <th>1</th>\n",
       "      <td>32.0</td>\n",
       "      <td>1.0</td>\n",
       "      <td>mu</td>\n",
       "    </tr>\n",
       "    <tr>\n",
       "      <th>2</th>\n",
       "      <td>34.0</td>\n",
       "      <td>2.0</td>\n",
       "      <td>mu</td>\n",
       "    </tr>\n",
       "    <tr>\n",
       "      <th>3</th>\n",
       "      <td>22.0</td>\n",
       "      <td>10.0</td>\n",
       "      <td>sigma</td>\n",
       "    </tr>\n",
       "    <tr>\n",
       "      <th>4</th>\n",
       "      <td>32.0</td>\n",
       "      <td>15.0</td>\n",
       "      <td>sigma</td>\n",
       "    </tr>\n",
       "    <tr>\n",
       "      <th>5</th>\n",
       "      <td>42.0</td>\n",
       "      <td>20.0</td>\n",
       "      <td>sigma</td>\n",
       "    </tr>\n",
       "  </tbody>\n",
       "</table>\n",
       "</div>"
      ],
      "text/plain": [
       "      y     x  theta\n",
       "0  30.0   0.0     mu\n",
       "1  32.0   1.0     mu\n",
       "2  34.0   2.0     mu\n",
       "3  22.0  10.0  sigma\n",
       "4  32.0  15.0  sigma\n",
       "5  42.0  20.0  sigma"
      ]
     },
     "execution_count": 9,
     "metadata": {},
     "output_type": "execute_result"
    }
   ],
   "source": [
    "plot_data"
   ]
  },
  {
   "cell_type": "markdown",
   "metadata": {},
   "source": [
    "The next step will be to determine how to package these three functions with wrappers, etc. to create a clean Python package."
   ]
  }
 ],
 "metadata": {
  "kernelspec": {
   "display_name": "Python 3",
   "language": "python",
   "name": "python3"
  },
  "language_info": {
   "codemirror_mode": {
    "name": "ipython",
    "version": 3
   },
   "file_extension": ".py",
   "mimetype": "text/x-python",
   "name": "python",
   "nbconvert_exporter": "python",
   "pygments_lexer": "ipython3",
   "version": "3.7.4"
  }
 },
 "nbformat": 4,
 "nbformat_minor": 2
}
