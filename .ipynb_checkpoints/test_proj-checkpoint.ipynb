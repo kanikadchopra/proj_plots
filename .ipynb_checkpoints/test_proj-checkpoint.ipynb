{
 "cells": [
  {
   "cell_type": "code",
   "execution_count": 1,
   "metadata": {},
   "outputs": [],
   "source": [
    "import pandas as pd\n",
    "import numpy as np\n",
    "import seaborn as sns"
   ]
  },
  {
   "cell_type": "markdown",
   "metadata": {},
   "source": [
    "Rough test code for proj_data\n",
    "\n",
    "Assumes the existence of a function `obj_fun(theta)`."
   ]
  },
  {
   "cell_type": "code",
   "execution_count": 2,
   "metadata": {},
   "outputs": [],
   "source": [
    "# set theta limits and names\n",
    "theta_lims = np.array([[3., 8.], [0., .1], [.5, 2]])\n",
    "theta_names = [\"mu\", \"sigma\", \"tau\"]\n",
    "n_pts = 100  # number of evaluation points per coordinate"
   ]
  },
  {
   "cell_type": "markdown",
   "metadata": {},
   "source": [
    "Define an objective function"
   ]
  },
  {
   "cell_type": "code",
   "execution_count": 104,
   "metadata": {},
   "outputs": [],
   "source": [
    "def obj_fun(x):\n",
    "    return np.sum(x * 2, axis=1)\n",
    "    "
   ]
  },
  {
   "cell_type": "markdown",
   "metadata": {},
   "source": [
    "Calculate x_vals"
   ]
  },
  {
   "cell_type": "code",
   "execution_count": 96,
   "metadata": {},
   "outputs": [],
   "source": [
    "def proj_xvals(theta, theta_lims, theta_names, n_pts):\n",
    "    \"\"\"\n",
    "    Args:\n",
    "        theta (NumPy array): An array of parameter values\n",
    "        theta_lims (NumPy array): An array of limits or a 2 x theta.shape[0] matrix of lower and upper limits for each parameter\n",
    "        theta_names (list): A list of the theta names for plotting\n",
    "        n_pts (int): The number of points to plot\n",
    "\n",
    "    proj_xvals()`: Calculate a matrix of x-values (each column in an element of `theta`) such that evaluating `obj_fun()` on each row of `theta` produces the y-values in `proj_data()`.  So if `theta = [1, 15]` and `theta_lims = [[0, 2], [10, 20]]`, and `n_pts = 3`, then this would produce the matrix \n",
    "\n",
    "    Example: proj_xvals([1, 15], [[0, 2], [10, 20]], [\"mu\", \"tau\"], 3) => [[0, 15],\n",
    "                                                                           [1, 15],\n",
    "                                                                           [2, 15],\n",
    "                                                                           [1, 10],\n",
    "                                                                           [1, 15],\n",
    "                                                                           [1, 20]]\n",
    "    \"\"\"\n",
    "    \n",
    "    x_theta = np.linspace(theta_lims[:,0], theta_lims[:,1], n_pts).T\n",
    "    x_vals = np.empty((n_pts * n_theta, n_theta))\n",
    "\n",
    "    for i in range(n_theta):\n",
    "        theta_tmp = np.copy(theta)\n",
    "        theta_tmp = np.delete(theta_tmp, i, axis=0) \n",
    "\n",
    "        tmp_grid = x_vals[i*n_pts:(i+1)*n_pts]\n",
    "        # Initializes theta values that are changing in the tmp_grid\n",
    "        tmp_grid[:, i] = x_theta[i]\n",
    "\n",
    "        # Update the other two columns to be constant values in tmp_grid\n",
    "        b = np.ones((n_theta), dtype=bool)\n",
    "        b[i] = False\n",
    "\n",
    "        tmp_grid[:, b] = np.ones((n_pts, n_theta-1)) * theta_tmp\n",
    "\n",
    "    x_vals[i*n_pts:(i+1)*n_pts] = tmp_grid\n",
    "    \n",
    "    return x_vals"
   ]
  },
  {
   "cell_type": "code",
   "execution_count": 97,
   "metadata": {
    "scrolled": true
   },
   "outputs": [],
   "source": [
    "x_vals = proj_xvals(theta, theta_lims, theta_names, n_pts)"
   ]
  },
  {
   "cell_type": "code",
   "execution_count": 98,
   "metadata": {},
   "outputs": [
    {
     "data": {
      "text/plain": [
       "array([[ 0., 15.],\n",
       "       [ 1., 15.],\n",
       "       [ 2., 15.],\n",
       "       [ 1., 10.],\n",
       "       [ 1., 15.],\n",
       "       [ 1., 20.]])"
      ]
     },
     "execution_count": 98,
     "metadata": {},
     "output_type": "execute_result"
    }
   ],
   "source": [
    "x_vals"
   ]
  },
  {
   "cell_type": "code",
   "execution_count": 105,
   "metadata": {},
   "outputs": [
    {
     "data": {
      "text/plain": [
       "array([30., 32., 34., 22., 32., 42.])"
      ]
     },
     "execution_count": 105,
     "metadata": {},
     "output_type": "execute_result"
    }
   ],
   "source": [
    "obj_fun(x_vals)"
   ]
  },
  {
   "cell_type": "markdown",
   "metadata": {},
   "source": [
    "Calculate projection values"
   ]
  },
  {
   "cell_type": "code",
   "execution_count": null,
   "metadata": {},
   "outputs": [],
   "source": [
    "plot_df = proj_data(obj_fun,\n",
    "                    theta, theta_lims, theta_names)"
   ]
  },
  {
   "cell_type": "markdown",
   "metadata": {},
   "source": [
    "Plot using seaborn"
   ]
  },
  {
   "cell_type": "code",
   "execution_count": null,
   "metadata": {},
   "outputs": [],
   "source": [
    "# plot using seaborn\n",
    "sns.relplot(\n",
    "    data=plot_df, kind=\"line\",\n",
    "    x=\"x\", y=\"y\", col=\"theta\",\n",
    "    facet_kws=dict(sharex=False, sharey=False)\n",
    ")"
   ]
  },
  {
   "cell_type": "markdown",
   "metadata": {},
   "source": [
    "---"
   ]
  },
  {
   "cell_type": "markdown",
   "metadata": {},
   "source": [
    "## proj_xvals()"
   ]
  },
  {
   "cell_type": "code",
   "execution_count": 16,
   "metadata": {},
   "outputs": [],
   "source": [
    "theta = np.array([1, 15])\n",
    "theta_lims = np.array([[0,2], [10, 20]])\n",
    "n_theta = theta_lims.shape[0]\n",
    "n_pts = 3 "
   ]
  },
  {
   "cell_type": "code",
   "execution_count": 8,
   "metadata": {},
   "outputs": [],
   "source": [
    "plot_data = np.empty((2, n_theta, n_pts))\n",
    "for i in range(n_theta):\n",
    "    x_theta = np.linspace(theta_lims[i][0], theta_lims[i][1], num=n_pts)\n",
    "    for j in range(n_pts):\n",
    "            theta_tmp = np.copy(theta)\n",
    "            theta_tmp[i] = x_theta[j]\n",
    "            plot_data[0, i, j] = x_theta[j]\n",
    "    col_names = [\"x\", \"y\"]"
   ]
  },
  {
   "cell_type": "code",
   "execution_count": 9,
   "metadata": {},
   "outputs": [],
   "source": [
    "theta_names = ['mu', 'sigma']"
   ]
  },
  {
   "cell_type": "code",
   "execution_count": 10,
   "metadata": {
    "scrolled": true
   },
   "outputs": [
    {
     "data": {
      "text/html": [
       "<div>\n",
       "<style scoped>\n",
       "    .dataframe tbody tr th:only-of-type {\n",
       "        vertical-align: middle;\n",
       "    }\n",
       "\n",
       "    .dataframe tbody tr th {\n",
       "        vertical-align: top;\n",
       "    }\n",
       "\n",
       "    .dataframe thead th {\n",
       "        text-align: right;\n",
       "    }\n",
       "</style>\n",
       "<table border=\"1\" class=\"dataframe\">\n",
       "  <thead>\n",
       "    <tr style=\"text-align: right;\">\n",
       "      <th></th>\n",
       "      <th>id</th>\n",
       "      <th>theta</th>\n",
       "      <th>x</th>\n",
       "      <th>y</th>\n",
       "    </tr>\n",
       "  </thead>\n",
       "  <tbody>\n",
       "    <tr>\n",
       "      <th>0</th>\n",
       "      <td>0</td>\n",
       "      <td>mu</td>\n",
       "      <td>0.0</td>\n",
       "      <td>6.510566e-91</td>\n",
       "    </tr>\n",
       "    <tr>\n",
       "      <th>1</th>\n",
       "      <td>1</td>\n",
       "      <td>mu</td>\n",
       "      <td>1.0</td>\n",
       "      <td>2.192581e-56</td>\n",
       "    </tr>\n",
       "    <tr>\n",
       "      <th>2</th>\n",
       "      <td>2</td>\n",
       "      <td>mu</td>\n",
       "      <td>2.0</td>\n",
       "      <td>1.261722e-76</td>\n",
       "    </tr>\n",
       "    <tr>\n",
       "      <th>3</th>\n",
       "      <td>0</td>\n",
       "      <td>sigma</td>\n",
       "      <td>10.0</td>\n",
       "      <td>1.381341e-47</td>\n",
       "    </tr>\n",
       "    <tr>\n",
       "      <th>4</th>\n",
       "      <td>1</td>\n",
       "      <td>sigma</td>\n",
       "      <td>15.0</td>\n",
       "      <td>3.999110e+252</td>\n",
       "    </tr>\n",
       "    <tr>\n",
       "      <th>5</th>\n",
       "      <td>2</td>\n",
       "      <td>sigma</td>\n",
       "      <td>20.0</td>\n",
       "      <td>8.344037e-309</td>\n",
       "    </tr>\n",
       "  </tbody>\n",
       "</table>\n",
       "</div>"
      ],
      "text/plain": [
       "   id  theta     x              y\n",
       "0   0     mu   0.0   6.510566e-91\n",
       "1   1     mu   1.0   2.192581e-56\n",
       "2   2     mu   2.0   1.261722e-76\n",
       "3   0  sigma  10.0   1.381341e-47\n",
       "4   1  sigma  15.0  3.999110e+252\n",
       "5   2  sigma  20.0  8.344037e-309"
      ]
     },
     "execution_count": 10,
     "metadata": {},
     "output_type": "execute_result"
    }
   ],
   "source": [
    "pd.merge(*[(pd.DataFrame(plot_data[i].T,\n",
    "                                    columns=theta_names)\n",
    "                       .assign(id=range(n_pts))\n",
    "                       .melt(id_vars=\"id\", var_name=\"theta\", value_name=col_names[i])\n",
    "                       ) for i in range(2)], on=[\"id\", \"theta\"])"
   ]
  },
  {
   "cell_type": "code",
   "execution_count": 11,
   "metadata": {},
   "outputs": [],
   "source": [
    "x_theta = np.linspace(theta_lims[:,0], theta_lims[:,1], n_pts).T\n",
    "x_vals = np.empty((n_pts * n_theta, n_theta))\n",
    "\n",
    "for i in range(n_theta):\n",
    "    theta_tmp = np.copy(theta)\n",
    "    theta_tmp = np.delete(theta_tmp, i, axis=0)\n",
    "    \n",
    "    tmp_grid = x_vals[i*n_pts:(i+1)*n_pts]\n",
    "\n",
    "    tmp_grid[:, i] = x_theta[i]\n",
    "    tmp_grid[:, ~i] = theta_tmp\n",
    "    \n",
    "    #x_grid = np.array(np.meshgrid([theta[i]], theta_tmp)).T.reshape(-1, n_x)\n",
    "    x_vals[i*n_pts:(i+1)*n_pts] = tmp_grid"
   ]
  },
  {
   "cell_type": "code",
   "execution_count": 12,
   "metadata": {},
   "outputs": [
    {
     "data": {
      "text/plain": [
       "array([[ 0., 15.],\n",
       "       [ 1., 15.],\n",
       "       [ 2., 15.],\n",
       "       [ 1., 10.],\n",
       "       [ 1., 15.],\n",
       "       [ 1., 20.]])"
      ]
     },
     "execution_count": 12,
     "metadata": {},
     "output_type": "execute_result"
    }
   ],
   "source": [
    "x_vals"
   ]
  },
  {
   "cell_type": "markdown",
   "metadata": {},
   "source": [
    "### Two variables"
   ]
  },
  {
   "cell_type": "code",
   "execution_count": 78,
   "metadata": {},
   "outputs": [],
   "source": [
    "theta = np.array([1, 15])\n",
    "theta_lims = np.array([[0,2], [10, 20]])\n",
    "n_theta = theta_lims.shape[0]\n",
    "n_pts = 3 "
   ]
  },
  {
   "cell_type": "code",
   "execution_count": 93,
   "metadata": {},
   "outputs": [
    {
     "name": "stdout",
     "output_type": "stream",
     "text": [
      "[[ 0. 15.]\n",
      " [ 1. 15.]\n",
      " [ 2. 15.]]\n",
      "[[ 1. 10.]\n",
      " [ 1. 15.]\n",
      " [ 1. 20.]]\n"
     ]
    }
   ],
   "source": [
    "x_theta = np.linspace(theta_lims[:,0], theta_lims[:,1], n_pts).T\n",
    "x_vals = np.empty((n_pts * n_theta, n_theta))\n",
    "\n",
    "for i in range(n_theta):\n",
    "    theta_tmp = np.copy(theta)\n",
    "    theta_tmp = np.delete(theta_tmp, i, axis=0) \n",
    "    \n",
    "    tmp_grid = x_vals[i*n_pts:(i+1)*n_pts]\n",
    "    # Initializes theta values that are changing in the tmp_grid\n",
    "    tmp_grid[:, i] = x_theta[i]\n",
    "    \n",
    "    # Update the other two columns to be constant values in tmp_grid\n",
    "    b = np.ones((n_theta), dtype=bool)\n",
    "    b[i] = False\n",
    "    \n",
    "    tmp_grid[:, b] = np.ones((n_pts, n_theta-1)) * theta_tmp\n",
    "    \n",
    "    print(tmp_grid)\n",
    "    \n",
    "    \n",
    "    #x_grid = np.array(np.meshgrid([theta[i]], theta_tmp)).T.reshape(-1, n_x)\n",
    "    x_vals[i*n_pts:(i+1)*n_pts] = tmp_grid"
   ]
  },
  {
   "cell_type": "markdown",
   "metadata": {},
   "source": [
    "### Three variables"
   ]
  },
  {
   "cell_type": "code",
   "execution_count": 17,
   "metadata": {},
   "outputs": [],
   "source": [
    "theta = np.array([1, 5, 15])\n",
    "theta_lims = np.array([[0,2], [2.5, 7.5], [10, 20]])\n",
    "n_theta = theta_lims.shape[0]\n",
    "n_pts = 3 "
   ]
  },
  {
   "cell_type": "code",
   "execution_count": 76,
   "metadata": {},
   "outputs": [
    {
     "name": "stdout",
     "output_type": "stream",
     "text": [
      "[[ 0.  5. 15.]\n",
      " [ 1.  5. 15.]\n",
      " [ 2.  5. 15.]]\n",
      "[[ 1.   2.5 15. ]\n",
      " [ 1.   5.  15. ]\n",
      " [ 1.   7.5 15. ]]\n",
      "[[ 1.  5. 10.]\n",
      " [ 1.  5. 15.]\n",
      " [ 1.  5. 20.]]\n"
     ]
    }
   ],
   "source": [
    "x_theta = np.linspace(theta_lims[:,0], theta_lims[:,1], n_pts).T\n",
    "x_vals = np.empty((n_pts * n_theta, n_theta))\n",
    "\n",
    "for i in range(n_theta):\n",
    "    theta_tmp = np.copy(theta)\n",
    "    theta_tmp = np.delete(theta_tmp, i, axis=0) \n",
    "    \n",
    "    tmp_grid = x_vals[i*n_pts:(i+1)*n_pts]\n",
    "    # Initializes theta values that are changing in the tmp_grid\n",
    "    tmp_grid[:, i] = x_theta[i]\n",
    "    \n",
    "    # Update the other two columns to be constant values in tmp_grid\n",
    "    b = np.ones((n_theta), dtype=bool)\n",
    "    b[i] = False\n",
    "    \n",
    "    tmp_grid[:, b] = np.ones((n_pts, n_theta-1)) * theta_tmp\n",
    "    \n",
    "    print(tmp_grid)\n",
    "    \n",
    "    \n",
    "    #x_grid = np.array(np.meshgrid([theta[i]], theta_tmp)).T.reshape(-1, n_x)\n",
    "    x_vals[i*n_pts:(i+1)*n_pts] = tmp_grid"
   ]
  },
  {
   "cell_type": "code",
   "execution_count": 77,
   "metadata": {},
   "outputs": [
    {
     "data": {
      "text/plain": [
       "array([[ 0. ,  5. , 15. ],\n",
       "       [ 1. ,  5. , 15. ],\n",
       "       [ 2. ,  5. , 15. ],\n",
       "       [ 1. ,  2.5, 15. ],\n",
       "       [ 1. ,  5. , 15. ],\n",
       "       [ 1. ,  7.5, 15. ],\n",
       "       [ 1. ,  5. , 10. ],\n",
       "       [ 1. ,  5. , 15. ],\n",
       "       [ 1. ,  5. , 20. ]])"
      ]
     },
     "execution_count": 77,
     "metadata": {},
     "output_type": "execute_result"
    }
   ],
   "source": [
    "x_vals"
   ]
  },
  {
   "cell_type": "markdown",
   "metadata": {},
   "source": [
    "As required, our x_vals matrix is generated above correctly with three parameters. We will test this again with another set of numbers to verify the results. "
   ]
  },
  {
   "cell_type": "code",
   "execution_count": null,
   "metadata": {},
   "outputs": [],
   "source": []
  }
 ],
 "metadata": {
  "kernelspec": {
   "display_name": "Python 3",
   "language": "python",
   "name": "python3"
  },
  "language_info": {
   "codemirror_mode": {
    "name": "ipython",
    "version": 3
   },
   "file_extension": ".py",
   "mimetype": "text/x-python",
   "name": "python",
   "nbconvert_exporter": "python",
   "pygments_lexer": "ipython3",
   "version": "3.7.4"
  }
 },
 "nbformat": 4,
 "nbformat_minor": 2
}
